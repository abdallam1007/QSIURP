{
 "cells": [
  {
   "cell_type": "code",
   "execution_count": 8,
   "id": "3563ca0c",
   "metadata": {},
   "outputs": [
    {
     "name": "stderr",
     "output_type": "stream",
     "text": [
      "[2021-07-25 14:34:22,504] EPLUS_ENV_Eplus-test-v4_MainThread_ROOT INFO:Creating EnergyPlus simulation environment...\n",
      "[2021-07-25 14:34:22,504] EPLUS_ENV_Eplus-test-v4_MainThread_ROOT INFO:Creating EnergyPlus simulation environment...\n",
      "[2021-07-25 14:34:22,524] EPLUS_ENV_Eplus-test-v4_MainThread_ROOT INFO:EnergyPlus working directory is in /home/abdalla/Desktop/QSIURP/Simulations/Eplus-env-Eplus-test-v4-res2/Eplus-env-sub_run1\n",
      "[2021-07-25 14:34:22,524] EPLUS_ENV_Eplus-test-v4_MainThread_ROOT INFO:EnergyPlus working directory is in /home/abdalla/Desktop/QSIURP/Simulations/Eplus-env-Eplus-test-v4-res2/Eplus-env-sub_run1\n",
      "[2021-07-25 14:34:47,655] EPLUS_ENV_Eplus-test-v4_MainThread_ROOT INFO:Last EnergyPlus process has been closed. \n",
      "[2021-07-25 14:34:47,655] EPLUS_ENV_Eplus-test-v4_MainThread_ROOT INFO:Last EnergyPlus process has been closed. \n",
      "[2021-07-25 14:34:47,658] EPLUS_ENV_Eplus-test-v4_MainThread_ROOT INFO:Creating EnergyPlus simulation environment...\n",
      "[2021-07-25 14:34:47,658] EPLUS_ENV_Eplus-test-v4_MainThread_ROOT INFO:Creating EnergyPlus simulation environment...\n",
      "[2021-07-25 14:34:47,660] EPLUS_ENV_Eplus-test-v4_MainThread_ROOT INFO:EnergyPlus working directory is in /home/abdalla/Desktop/QSIURP/Simulations/Eplus-env-Eplus-test-v4-res2/Eplus-env-sub_run2\n",
      "[2021-07-25 14:34:47,660] EPLUS_ENV_Eplus-test-v4_MainThread_ROOT INFO:EnergyPlus working directory is in /home/abdalla/Desktop/QSIURP/Simulations/Eplus-env-Eplus-test-v4-res2/Eplus-env-sub_run2\n",
      "[2021-07-25 14:35:17,169] EPLUS_ENV_Eplus-test-v4_MainThread_ROOT INFO:Last EnergyPlus process has been closed. \n",
      "[2021-07-25 14:35:17,169] EPLUS_ENV_Eplus-test-v4_MainThread_ROOT INFO:Last EnergyPlus process has been closed. \n",
      "[2021-07-25 14:35:17,172] EPLUS_ENV_Eplus-test-v4_MainThread_ROOT INFO:Creating EnergyPlus simulation environment...\n",
      "[2021-07-25 14:35:17,172] EPLUS_ENV_Eplus-test-v4_MainThread_ROOT INFO:Creating EnergyPlus simulation environment...\n",
      "[2021-07-25 14:35:17,174] EPLUS_ENV_Eplus-test-v4_MainThread_ROOT INFO:EnergyPlus working directory is in /home/abdalla/Desktop/QSIURP/Simulations/Eplus-env-Eplus-test-v4-res2/Eplus-env-sub_run3\n",
      "[2021-07-25 14:35:17,174] EPLUS_ENV_Eplus-test-v4_MainThread_ROOT INFO:EnergyPlus working directory is in /home/abdalla/Desktop/QSIURP/Simulations/Eplus-env-Eplus-test-v4-res2/Eplus-env-sub_run3\n",
      "[2021-07-25 14:35:47,430] EPLUS_ENV_Eplus-test-v4_MainThread_ROOT INFO:Last EnergyPlus process has been closed. \n",
      "[2021-07-25 14:35:47,430] EPLUS_ENV_Eplus-test-v4_MainThread_ROOT INFO:Last EnergyPlus process has been closed. \n",
      "[2021-07-25 14:35:47,431] EPLUS_ENV_Eplus-test-v4_MainThread_ROOT INFO:Creating EnergyPlus simulation environment...\n",
      "[2021-07-25 14:35:47,431] EPLUS_ENV_Eplus-test-v4_MainThread_ROOT INFO:Creating EnergyPlus simulation environment...\n",
      "[2021-07-25 14:35:47,433] EPLUS_ENV_Eplus-test-v4_MainThread_ROOT INFO:EnergyPlus working directory is in /home/abdalla/Desktop/QSIURP/Simulations/Eplus-env-Eplus-test-v4-res2/Eplus-env-sub_run4\n",
      "[2021-07-25 14:35:47,433] EPLUS_ENV_Eplus-test-v4_MainThread_ROOT INFO:EnergyPlus working directory is in /home/abdalla/Desktop/QSIURP/Simulations/Eplus-env-Eplus-test-v4-res2/Eplus-env-sub_run4\n",
      "[2021-07-25 14:36:14,104] EPLUS_ENV_Eplus-test-v4_MainThread_ROOT INFO:Last EnergyPlus process has been closed. \n",
      "[2021-07-25 14:36:14,104] EPLUS_ENV_Eplus-test-v4_MainThread_ROOT INFO:Last EnergyPlus process has been closed. \n",
      "[2021-07-25 14:36:14,106] EPLUS_ENV_Eplus-test-v4_MainThread_ROOT INFO:Creating EnergyPlus simulation environment...\n",
      "[2021-07-25 14:36:14,106] EPLUS_ENV_Eplus-test-v4_MainThread_ROOT INFO:Creating EnergyPlus simulation environment...\n",
      "[2021-07-25 14:36:14,108] EPLUS_ENV_Eplus-test-v4_MainThread_ROOT INFO:EnergyPlus working directory is in /home/abdalla/Desktop/QSIURP/Simulations/Eplus-env-Eplus-test-v4-res2/Eplus-env-sub_run5\n",
      "[2021-07-25 14:36:14,108] EPLUS_ENV_Eplus-test-v4_MainThread_ROOT INFO:EnergyPlus working directory is in /home/abdalla/Desktop/QSIURP/Simulations/Eplus-env-Eplus-test-v4-res2/Eplus-env-sub_run5\n",
      "[2021-07-25 14:36:41,957] EPLUS_ENV_Eplus-test-v4_MainThread_ROOT INFO:Last EnergyPlus process has been closed. \n",
      "[2021-07-25 14:36:41,957] EPLUS_ENV_Eplus-test-v4_MainThread_ROOT INFO:Last EnergyPlus process has been closed. \n",
      "[2021-07-25 14:36:41,959] EPLUS_ENV_Eplus-test-v4_MainThread_ROOT INFO:Creating EnergyPlus simulation environment...\n",
      "[2021-07-25 14:36:41,959] EPLUS_ENV_Eplus-test-v4_MainThread_ROOT INFO:Creating EnergyPlus simulation environment...\n",
      "[2021-07-25 14:36:41,989] EPLUS_ENV_Eplus-test-v4_MainThread_ROOT INFO:EnergyPlus working directory is in /home/abdalla/Desktop/QSIURP/Simulations/Eplus-env-Eplus-test-v4-res2/Eplus-env-sub_run6\n",
      "[2021-07-25 14:36:41,989] EPLUS_ENV_Eplus-test-v4_MainThread_ROOT INFO:EnergyPlus working directory is in /home/abdalla/Desktop/QSIURP/Simulations/Eplus-env-Eplus-test-v4-res2/Eplus-env-sub_run6\n",
      "[2021-07-25 14:37:09,150] EPLUS_ENV_Eplus-test-v4_MainThread_ROOT INFO:Last EnergyPlus process has been closed. \n",
      "[2021-07-25 14:37:09,150] EPLUS_ENV_Eplus-test-v4_MainThread_ROOT INFO:Last EnergyPlus process has been closed. \n",
      "[2021-07-25 14:37:09,152] EPLUS_ENV_Eplus-test-v4_MainThread_ROOT INFO:Creating EnergyPlus simulation environment...\n",
      "[2021-07-25 14:37:09,152] EPLUS_ENV_Eplus-test-v4_MainThread_ROOT INFO:Creating EnergyPlus simulation environment...\n",
      "[2021-07-25 14:37:09,154] EPLUS_ENV_Eplus-test-v4_MainThread_ROOT INFO:EnergyPlus working directory is in /home/abdalla/Desktop/QSIURP/Simulations/Eplus-env-Eplus-test-v4-res2/Eplus-env-sub_run7\n",
      "[2021-07-25 14:37:09,154] EPLUS_ENV_Eplus-test-v4_MainThread_ROOT INFO:EnergyPlus working directory is in /home/abdalla/Desktop/QSIURP/Simulations/Eplus-env-Eplus-test-v4-res2/Eplus-env-sub_run7\n",
      "[2021-07-25 14:37:36,757] EPLUS_ENV_Eplus-test-v4_MainThread_ROOT INFO:Last EnergyPlus process has been closed. \n",
      "[2021-07-25 14:37:36,757] EPLUS_ENV_Eplus-test-v4_MainThread_ROOT INFO:Last EnergyPlus process has been closed. \n",
      "[2021-07-25 14:37:36,760] EPLUS_ENV_Eplus-test-v4_MainThread_ROOT INFO:Creating EnergyPlus simulation environment...\n",
      "[2021-07-25 14:37:36,760] EPLUS_ENV_Eplus-test-v4_MainThread_ROOT INFO:Creating EnergyPlus simulation environment...\n",
      "[2021-07-25 14:37:36,763] EPLUS_ENV_Eplus-test-v4_MainThread_ROOT INFO:EnergyPlus working directory is in /home/abdalla/Desktop/QSIURP/Simulations/Eplus-env-Eplus-test-v4-res2/Eplus-env-sub_run8\n",
      "[2021-07-25 14:37:36,763] EPLUS_ENV_Eplus-test-v4_MainThread_ROOT INFO:EnergyPlus working directory is in /home/abdalla/Desktop/QSIURP/Simulations/Eplus-env-Eplus-test-v4-res2/Eplus-env-sub_run8\n",
      "[2021-07-25 14:38:03,737] EPLUS_ENV_Eplus-test-v4_MainThread_ROOT INFO:Last EnergyPlus process has been closed. \n",
      "[2021-07-25 14:38:03,737] EPLUS_ENV_Eplus-test-v4_MainThread_ROOT INFO:Last EnergyPlus process has been closed. \n",
      "[2021-07-25 14:38:03,739] EPLUS_ENV_Eplus-test-v4_MainThread_ROOT INFO:Creating EnergyPlus simulation environment...\n",
      "[2021-07-25 14:38:03,739] EPLUS_ENV_Eplus-test-v4_MainThread_ROOT INFO:Creating EnergyPlus simulation environment...\n",
      "[2021-07-25 14:38:03,742] EPLUS_ENV_Eplus-test-v4_MainThread_ROOT INFO:EnergyPlus working directory is in /home/abdalla/Desktop/QSIURP/Simulations/Eplus-env-Eplus-test-v4-res2/Eplus-env-sub_run9\n",
      "[2021-07-25 14:38:03,742] EPLUS_ENV_Eplus-test-v4_MainThread_ROOT INFO:EnergyPlus working directory is in /home/abdalla/Desktop/QSIURP/Simulations/Eplus-env-Eplus-test-v4-res2/Eplus-env-sub_run9\n",
      "[2021-07-25 14:38:31,010] EPLUS_ENV_Eplus-test-v4_MainThread_ROOT INFO:Last EnergyPlus process has been closed. \n",
      "[2021-07-25 14:38:31,010] EPLUS_ENV_Eplus-test-v4_MainThread_ROOT INFO:Last EnergyPlus process has been closed. \n",
      "[2021-07-25 14:38:31,012] EPLUS_ENV_Eplus-test-v4_MainThread_ROOT INFO:Creating EnergyPlus simulation environment...\n",
      "[2021-07-25 14:38:31,012] EPLUS_ENV_Eplus-test-v4_MainThread_ROOT INFO:Creating EnergyPlus simulation environment...\n",
      "[2021-07-25 14:38:31,015] EPLUS_ENV_Eplus-test-v4_MainThread_ROOT INFO:EnergyPlus working directory is in /home/abdalla/Desktop/QSIURP/Simulations/Eplus-env-Eplus-test-v4-res2/Eplus-env-sub_run10\n",
      "[2021-07-25 14:38:31,015] EPLUS_ENV_Eplus-test-v4_MainThread_ROOT INFO:EnergyPlus working directory is in /home/abdalla/Desktop/QSIURP/Simulations/Eplus-env-Eplus-test-v4-res2/Eplus-env-sub_run10\n"
     ]
    }
   ],
   "source": [
    "import gym;\n",
    "import eplus_env;\n",
    "import random\n",
    "import statistics\n",
    "import matplotlib.pyplot as plt\n",
    "\n",
    "# Input: inTemps  = (r1,r2) where r1,r2 are a range of room temps (0,30)\n",
    "#        outTemps = (r3,r4) where r3,r4 are a range of out temps (-17,35)\n",
    "# Output: a dict with the cartesian product of both in and out temps\n",
    "#         as a key and 0 as a value.\n",
    "def getQTable(inTemps,outTemps):\n",
    "  (r1,r2) = inTemps\n",
    "  (r3,r4) = outTemps\n",
    "  qList = []\n",
    "  for i in range(r1,r2):\n",
    "    for j in range(r3,r4):\n",
    "        # Making a dict where the states (i,j) are the keys and the value \n",
    "        # is an array where the indices represent the actions (0 => off),\n",
    "        # (1 => on = 30) respectively and the elements of the array are \n",
    "        # the Q-Value for each state and action (key and value).\n",
    "        qList.append(((i,j),[0,0]))\n",
    "  qDict = dict(qList)\n",
    "  return qDict\n",
    "\n",
    "'''\n",
    "def getFreqTable(inTemps,outTemps):\n",
    "  (r1,r2) = inTemps\n",
    "  (r3,r4) = outTemps\n",
    "  freqList = []\n",
    "  for i in range(r1,r2):\n",
    "    for j in range(r3,r4):\n",
    "        freqList.append(((i,j),0))\n",
    "  freqDict = dict(freqList)\n",
    "  return freqDict\n",
    "'''\n",
    "\n",
    "max_energy = 11000\n",
    "min_energy = 0\n",
    "max_temp = 24\n",
    "min_temp = 0\n",
    "\n",
    "\n",
    "def normalize(x,x_max,x_min):\n",
    "\n",
    "  if x < x_min:\n",
    "    x = x_min\n",
    "  elif x > x_max:\n",
    "    x = x_max\n",
    "\n",
    "  return (x_max - x) / (x_max - x_min)\n",
    "\n",
    "def cubic(x, scale = - 0.1, translation = 0):\n",
    "  return translation + (x**3) * scale\n",
    "\n",
    "def getReward(sp,rt,E15):\n",
    "  a = 0.5\n",
    "  delta_sp = abs(sp - rt)\n",
    "  norm_e = normalize(E15,max_energy,min_energy)\n",
    "  norm_t = normalize(delta_sp,max_temp,min_temp)\n",
    "  R = a * norm_e + (1-a) * norm_t\n",
    "  return cubic(8 * R - 4, scale = -0.1, translation = 2)\n",
    "\n",
    "sp = 30\n",
    "inTemps = (0,31)\n",
    "outTemps = (-17,35)\n",
    "alpha = 0.6\n",
    "gamma = 0.9\n",
    "epsilon = 0.6\n",
    "\n",
    "# making the initial Q-table\n",
    "qTable = getQTable(inTemps,outTemps)\n",
    "\n",
    "E15_list = []\n",
    "temp_list = []\n",
    "\n",
    "#freqTable = getFreqTable(inTemps,outTemps)\n",
    "env = gym.make('Eplus-test-v4')\n",
    "\n",
    "# Number of episodes\n",
    "for i in range(10):\n",
    "    energyC_list = []\n",
    "    Delta_sp_list = []\n",
    "\n",
    "    # Reset the env (creat the EnergyPlus subprocess)\n",
    "    curSimTime, ob, isTerminal = env.reset()\n",
    "\n",
    "    # get the initial in/out temps and the energy consumption\n",
    "    state = (round(ob[8]),round(ob[0]))\n",
    "    energyC = ob[14] # ???\n",
    "    while not isTerminal:\n",
    "      if random.uniform(0,1) < epsilon:\n",
    "        choice = random.randint(0,1)\n",
    "      else:\n",
    "        # a list of qValues indexed by actions\n",
    "        actionsList = qTable[state]\n",
    "        choice = actionsList.index(max(actionsList))\n",
    "\n",
    "      # (0 = off) (1 = on,30)\n",
    "      if choice:\n",
    "        action = [sp,sp]\n",
    "      else:\n",
    "        action = [0,0]\n",
    "\n",
    "      curSimTime, ob, isTerminal = env.step(action)\n",
    "      nextState = (round(ob[8]),round(ob[0]))\n",
    "\n",
    "      # get the energy consumption for the last 15 mins\n",
    "      energyC = abs(energyC - ob[14])\n",
    "      energyC_list.append(energyC)\n",
    "      Delta_sp_list.append(abs(ob[8] - sp))\n",
    "    \n",
    "      reward = getReward(sp,ob[8],energyC)\n",
    "\n",
    "      oldQValue = qTable[state][choice]\n",
    "      nextQMax = max(qTable[nextState])\n",
    "      # update the Q - Value\n",
    "      newQValue = oldQValue + alpha * (reward + gamma * nextQMax - oldQValue)\n",
    "      qTable[state][choice] = newQValue\n",
    "      # ble ate ice\n",
    "      #freqTable[state] += 1\n",
    "\n",
    "      state = nextState\n",
    "      # ate next ate (زي المفجوع)\n",
    "    \n",
    "    E15_list.append(energyC_list)\n",
    "    temp_list.append(Delta_sp_list)\n",
    "\n",
    "# Safe termination of the environment after use.\n",
    "env.end_env()\n",
    "\n",
    "# u late i u ate\n",
    "\n",
    "\n",
    "# plot learning rate"
   ]
  },
  {
   "cell_type": "code",
   "execution_count": 9,
   "id": "388b3e04",
   "metadata": {},
   "outputs": [],
   "source": [
    "for i in range(len(E15_list)):\n",
    "    E15_list[i] = sum(E15_list[i])\n",
    "    temp_list[i] = sum(temp_list[i])"
   ]
  },
  {
   "cell_type": "code",
   "execution_count": 10,
   "id": "7afb788e",
   "metadata": {},
   "outputs": [
    {
     "data": {
      "text/plain": [
       "[<matplotlib.lines.Line2D at 0x7f3d69e06340>]"
      ]
     },
     "execution_count": 10,
     "metadata": {},
     "output_type": "execute_result"
    },
    {
     "data": {
      "image/png": "[encoded data removed]",
      "text/plain": [
       "<Figure size 432x288 with 1 Axes>"
      ]
     },
     "metadata": {
      "needs_background": "light"
     },
     "output_type": "display_data"
    }
   ],
   "source": [
    "plt.plot(E15_list)"
   ]
  },
  {
   "cell_type": "code",
   "execution_count": 11,
   "id": "406109c7",
   "metadata": {},
   "outputs": [
    {
     "data": {
      "text/plain": [
       "[<matplotlib.lines.Line2D at 0x7f3d29354310>]"
      ]
     },
     "execution_count": 11,
     "metadata": {},
     "output_type": "execute_result"
    },
    {
     "data": {
      "image/png": "[encoded data removed]",
      "text/plain": [
       "<Figure size 432x288 with 1 Axes>"
      ]
     },
     "metadata": {
      "needs_background": "light"
     },
     "output_type": "display_data"
    }
   ],
   "source": [
    "plt.plot(temp_list)"
   ]
  },
  {
   "cell_type": "code",
   "execution_count": null,
   "id": "a621af91",
   "metadata": {},
   "outputs": [],
   "source": [
    "env = gym.make('Eplus-test-v4');\n",
    "curSimTime, ob, isTerminal = env.reset(); # Reset the env (creat the EnergyPlus subprocess)\n",
    "while not isTerminal:\n",
    "    state = (round(ob[8]),round(ob[0]))\n",
    "    actionsList = qTable[state]\n",
    "    choice = actionsList.index(max(actionsList))\n",
    "    \n",
    "    # (0 = off) (1 = on,30)\n",
    "    if choice:\n",
    "        action = [sp,sp]\n",
    "    else:\n",
    "        action = [0,0]\n",
    "    \n",
    "    curSimTime, ob, isTerminal = env.step(action);\n",
    "env.end_env(); # Safe termination of the environment after use."
   ]
  }
 ],
 "metadata": {
  "kernelspec": {
   "display_name": "Python 3",
   "language": "python",
   "name": "python3"
  },
  "language_info": {
   "codemirror_mode": {
    "name": "ipython",
    "version": 3
   },
   "file_extension": ".py",
   "mimetype": "text/x-python",
   "name": "python",
   "nbconvert_exporter": "python",
   "pygments_lexer": "ipython3",
   "version": "3.9.5"
  }
 },
 "nbformat": 4,
 "nbformat_minor": 5
}
