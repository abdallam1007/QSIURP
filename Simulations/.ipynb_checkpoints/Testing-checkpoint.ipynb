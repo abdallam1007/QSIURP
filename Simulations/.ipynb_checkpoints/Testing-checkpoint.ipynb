{
 "cells": [
  {
   "cell_type": "code",
   "execution_count": 16,
   "id": "572b7755",
   "metadata": {
    "scrolled": false
   },
   "outputs": [
    {
     "name": "stderr",
     "output_type": "stream",
     "text": [
      "[2021-06-29 21:44:02,519] EPLUS_ENV_Eplus-test-v4_MainThread_ROOT INFO:Creating EnergyPlus simulation environment...\n",
      "[2021-06-29 21:44:02,519] EPLUS_ENV_Eplus-test-v4_MainThread_ROOT INFO:Creating EnergyPlus simulation environment...\n",
      "[2021-06-29 21:44:02,519] EPLUS_ENV_Eplus-test-v4_MainThread_ROOT INFO:Creating EnergyPlus simulation environment...\n",
      "[2021-06-29 21:44:02,519] EPLUS_ENV_Eplus-test-v4_MainThread_ROOT INFO:Creating EnergyPlus simulation environment...\n",
      "[2021-06-29 21:44:02,523] EPLUS_ENV_Eplus-test-v4_MainThread_ROOT INFO:EnergyPlus working directory is in /home/abdalla/Desktop/QSIURP/Simulations/Eplus-env-Eplus-test-v4-res10/Eplus-env-sub_run1\n",
      "[2021-06-29 21:44:02,523] EPLUS_ENV_Eplus-test-v4_MainThread_ROOT INFO:EnergyPlus working directory is in /home/abdalla/Desktop/QSIURP/Simulations/Eplus-env-Eplus-test-v4-res10/Eplus-env-sub_run1\n",
      "[2021-06-29 21:44:02,523] EPLUS_ENV_Eplus-test-v4_MainThread_ROOT INFO:EnergyPlus working directory is in /home/abdalla/Desktop/QSIURP/Simulations/Eplus-env-Eplus-test-v4-res10/Eplus-env-sub_run1\n",
      "[2021-06-29 21:44:02,523] EPLUS_ENV_Eplus-test-v4_MainThread_ROOT INFO:EnergyPlus working directory is in /home/abdalla/Desktop/QSIURP/Simulations/Eplus-env-Eplus-test-v4-res10/Eplus-env-sub_run1\n"
     ]
    }
   ],
   "source": [
    "import gym;\n",
    "import eplus_env;\n",
    "\n",
    "env = gym.make('Eplus-test-v4');\n",
    "states = []\n",
    "curSimTime, ob, isTerminal = env.reset(); # Reset the env (creat the EnergyPlus subprocess)\n",
    "while not isTerminal:\n",
    "    action = [0,0];\n",
    "    states.append(ob)\n",
    "    curSimTime, ob, isTerminal = env.step(action);\n",
    "env.end_env(); # Safe termination of the environment after use.\n"
   ]
  },
  {
   "cell_type": "code",
   "execution_count": 17,
   "id": "5f3f0766",
   "metadata": {},
   "outputs": [
    {
     "name": "stdout",
     "output_type": "stream",
     "text": [
      "20.99996028578502\n",
      "20.99993364099087\n",
      "20.99991681491346\n",
      "21.00034288664144\n",
      "21.00020498973652\n",
      "21.00024661598493\n",
      "21.00032302328393\n",
      "21.00037564707407\n",
      "21.00041404290332\n",
      "21.00045352713138\n",
      "21.00049287658965\n",
      "21.00052854473668\n",
      "21.00056138533566\n",
      "21.00059151767704\n",
      "21.00061937810621\n",
      "21.00064499700813\n",
      "21.00066862957804\n",
      "21.00069089086777\n",
      "21.00071174805051\n",
      "21.00073124313245\n",
      "21.00074950232837\n",
      "21.00076663691257\n",
      "21.00078266827784\n",
      "21.00079764110481\n",
      "21.00081163055417\n",
      "21.00082470220769\n",
      "21.00083690851667\n",
      "21.00084829887648\n",
      "21.00085892327434\n",
      "21.00086986364758\n",
      "21.00088074633631\n",
      "21.0008914205181\n",
      "21.00090195444811\n",
      "21.00103919826421\n",
      "21.00140733554858\n",
      "21.00174851954039\n",
      "21.00216624406151\n",
      "21.00235479748477\n",
      "21.00248755652858\n",
      "21.00260665697869\n",
      "21.00271064163613\n",
      "21.0027880314889\n",
      "21.00284583076116\n",
      "21.00288643600921\n",
      "21.00291159297132\n",
      "21.00295056951647\n",
      "21.00298166582396\n",
      "21.00300603769176\n",
      "21.00302212842944\n",
      "21.003091415245\n",
      "21.00315165815232\n",
      "21.00320093343009\n",
      "21.00323818967368\n",
      "21.00649961325756\n",
      "21.01022009425059\n",
      "21.01400277244672\n",
      "21.01400724484272\n",
      "21.01403913108088\n",
      "21.01408182946417\n",
      "21.01413949696085\n",
      "21.01421585799483\n",
      "21.01439132648295\n",
      "21.01460356738888\n",
      "21.01485273705719\n",
      "21.01514088656953\n",
      "21.01558354983812\n",
      "21.01606237065938\n",
      "21.01657492772298\n",
      "21.01711787337234\n",
      "21.01769375163438\n",
      "21.01829695874319\n",
      "21.01892334560297\n",
      "21.0195703372908\n",
      "21.02067337880921\n",
      "21.02151687866817\n",
      "21.02121556958445\n",
      "21.02163406888463\n",
      "21.02168496172134\n",
      "21.02161940426876\n",
      "21.02167888576937\n",
      "21.02167889621812\n",
      "21.02169502371734\n",
      "21.02171452185761\n",
      "21.02172997577082\n",
      "21.02174912927006\n",
      "21.02176771134767\n",
      "21.02172199327673\n",
      "21.02171114845696\n",
      "21.02169432532008\n",
      "21.02167939506834\n",
      "21.02166384024153\n",
      "21.0216468398937\n",
      "21.02162936596727\n",
      "21.02161092137627\n",
      "21.02159204159721\n",
      "21.02157254158717\n"
     ]
    }
   ],
   "source": [
    "for i in range (len(states)):\n",
    "    print(states[i][8])"
   ]
  },
  {
   "cell_type": "code",
   "execution_count": 18,
   "id": "61eb3157",
   "metadata": {},
   "outputs": [
    {
     "name": "stdout",
     "output_type": "stream",
     "text": [
      "    outTemp  outHumidity  windSpeed  windDirection  diffuseSolarRadiation  \\\n",
      "0     0.000        95.00      4.100          290.0                    0.0   \n",
      "1     1.800        95.25      4.100          265.0                    0.0   \n",
      "2     3.600        95.50      4.100          240.0                    0.0   \n",
      "3     5.400        95.75      4.100          215.0                    0.0   \n",
      "4     7.200        96.00      4.100          190.0                    0.0   \n",
      "..      ...          ...        ...            ...                    ...   \n",
      "91    0.350        95.25      3.825          277.5                    0.0   \n",
      "92    0.300        95.00      3.900          280.0                    0.0   \n",
      "93    0.225        95.00      3.950          282.5                    0.0   \n",
      "94    0.150        95.00      4.000          285.0                    0.0   \n",
      "95    0.075        95.00      4.050          287.5                    0.0   \n",
      "\n",
      "    directSolarRadiation  htgSetpoint  clngSetpoint     inTemp    comfort  \\\n",
      "0                    0.0    21.000000     25.000000  20.999960   0.000000   \n",
      "1                    0.0    20.999960     20.999960  20.999934  16.573520   \n",
      "2                    0.0    20.999934     20.999934  20.999917  16.713812   \n",
      "3                    0.0    20.999917     20.999917  21.000343  16.923457   \n",
      "4                    0.0    21.000343     21.000343  21.000205  17.173587   \n",
      "..                   ...          ...           ...        ...        ...   \n",
      "91                   0.0    21.021664     21.021664  21.021647  16.637773   \n",
      "92                   0.0    21.021647     21.021647  21.021629  16.609287   \n",
      "93                   0.0    21.021629     21.021629  21.021611  16.584185   \n",
      "94                   0.0    21.021611     21.021611  21.021592  16.561214   \n",
      "95                   0.0    21.021592     21.021592  21.021573  16.539541   \n",
      "\n",
      "    roomHumidity  comfortClothing  comfortFan  #people        power  \n",
      "0      41.162872         0.000000    0.000000      0.0  6003.496703  \n",
      "1      41.038396         0.750000   45.514830      0.0  5862.242558  \n",
      "2      40.924423         0.750000   44.727776      0.0  5775.494814  \n",
      "3      40.409764         0.750000   43.444757      0.0  2547.725459  \n",
      "4      40.121472         0.750000   42.098864      0.0  2398.083434  \n",
      "..           ...              ...         ...      ...          ...  \n",
      "91     41.405561         0.610492   65.931081      0.0  5946.452348  \n",
      "92     41.348132         0.610492   66.135123      0.0  5963.824979  \n",
      "93     41.290181         0.610492   66.317064      0.0  5980.604954  \n",
      "94     41.231405         0.610492   66.484962      0.0  5996.489708  \n",
      "95     41.171869         0.610492   66.644399      0.0  6011.858353  \n",
      "\n",
      "[96 rows x 15 columns]\n"
     ]
    }
   ],
   "source": [
    "import pandas as pd \n",
    "  \n",
    "# Create the pandas DataFrame \n",
    "df = pd.DataFrame(states, columns = ['outTemp', 'outHumidity','windSpeed','windDirection','diffuseSolarRadiation','directSolarRadiation','htgSetpoint','clngSetpoint','inTemp','comfort','roomHumidity','comfortClothing','comfortFan','#people','power']) \n",
    "\n",
    "#df = pd.DataFrame(states, columns = ['outTemp', 'inTemp'])\n",
    "\n",
    "# print dataframe. \n",
    "print(df)"
   ]
  },
  {
   "cell_type": "code",
   "execution_count": 19,
   "id": "8a1d4245",
   "metadata": {},
   "outputs": [
    {
     "data": {
      "text/plain": [
       "<AxesSubplot:>"
      ]
     },
     "execution_count": 19,
     "metadata": {},
     "output_type": "execute_result"
    },
    {
     "data": {
      "image/png": "[encoded data removed]",
      "text/plain": [
       "<Figure size 432x288 with 1 Axes>"
      ]
     },
     "metadata": {
      "needs_background": "light"
     },
     "output_type": "display_data"
    }
   ],
   "source": [
    "df.plot(y = [\"outTemp\",\"inTemp\"])"
   ]
  },
  {
   "cell_type": "code",
   "execution_count": 20,
   "id": "bab33785",
   "metadata": {},
   "outputs": [
    {
     "data": {
      "text/plain": [
       "<AxesSubplot:>"
      ]
     },
     "execution_count": 20,
     "metadata": {},
     "output_type": "execute_result"
    },
    {
     "data": {
      "image/png": "[encoded data removed]",
      "text/plain": [
       "<Figure size 432x288 with 1 Axes>"
      ]
     },
     "metadata": {
      "needs_background": "light"
     },
     "output_type": "display_data"
    }
   ],
   "source": [
    "df.power.plot()"
   ]
  },
  {
   "cell_type": "code",
   "execution_count": 21,
   "id": "c1577af0",
   "metadata": {},
   "outputs": [
    {
     "data": {
      "text/plain": [
       "<AxesSubplot:>"
      ]
     },
     "execution_count": 21,
     "metadata": {},
     "output_type": "execute_result"
    },
    {
     "data": {
      "image/png": "[encoded data removed]",
      "text/plain": [
       "<Figure size 432x288 with 1 Axes>"
      ]
     },
     "metadata": {
      "needs_background": "light"
     },
     "output_type": "display_data"
    }
   ],
   "source": [
    "df.power.rolling(10).mean().plot()"
   ]
  }
 ],
 "metadata": {
  "kernelspec": {
   "display_name": "Python 3",
   "language": "python",
   "name": "python3"
  },
  "language_info": {
   "codemirror_mode": {
    "name": "ipython",
    "version": 3
   },
   "file_extension": ".py",
   "mimetype": "text/x-python",
   "name": "python",
   "nbconvert_exporter": "python",
   "pygments_lexer": "ipython3",
   "version": "3.9.5"
  }
 },
 "nbformat": 4,
 "nbformat_minor": 5
}
