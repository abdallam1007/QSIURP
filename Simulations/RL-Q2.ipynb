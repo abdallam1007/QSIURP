{
 "cells": [
  {
   "cell_type": "code",
   "execution_count": 4,
   "id": "02d70826",
   "metadata": {},
   "outputs": [
    {
     "name": "stderr",
     "output_type": "stream",
     "text": [
      "[2021-07-12 16:26:17,655] EPLUS_ENV_Eplus-test-v4_MainThread_ROOT INFO:Creating EnergyPlus simulation environment...\n",
      "[2021-07-12 16:26:17,655] EPLUS_ENV_Eplus-test-v4_MainThread_ROOT INFO:Creating EnergyPlus simulation environment...\n",
      "[2021-07-12 16:26:17,655] EPLUS_ENV_Eplus-test-v4_MainThread_ROOT INFO:Creating EnergyPlus simulation environment...\n",
      "[2021-07-12 16:26:17,655] EPLUS_ENV_Eplus-test-v4_MainThread_ROOT INFO:Creating EnergyPlus simulation environment...\n",
      "[2021-07-12 16:26:17,659] EPLUS_ENV_Eplus-test-v4_MainThread_ROOT INFO:EnergyPlus working directory is in /home/abdalla/Desktop/QSIURP/Simulations/Eplus-env-Eplus-test-v4-res35/Eplus-env-sub_run1\n",
      "[2021-07-12 16:26:17,659] EPLUS_ENV_Eplus-test-v4_MainThread_ROOT INFO:EnergyPlus working directory is in /home/abdalla/Desktop/QSIURP/Simulations/Eplus-env-Eplus-test-v4-res35/Eplus-env-sub_run1\n",
      "[2021-07-12 16:26:17,659] EPLUS_ENV_Eplus-test-v4_MainThread_ROOT INFO:EnergyPlus working directory is in /home/abdalla/Desktop/QSIURP/Simulations/Eplus-env-Eplus-test-v4-res35/Eplus-env-sub_run1\n",
      "[2021-07-12 16:26:17,659] EPLUS_ENV_Eplus-test-v4_MainThread_ROOT INFO:EnergyPlus working directory is in /home/abdalla/Desktop/QSIURP/Simulations/Eplus-env-Eplus-test-v4-res35/Eplus-env-sub_run1\n"
     ]
    },
    {
     "data": {
      "image/png": "[encoded data removed]",
      "text/plain": [
       "<Figure size 432x288 with 1 Axes>"
      ]
     },
     "metadata": {
      "needs_background": "light"
     },
     "output_type": "display_data"
    }
   ],
   "source": [
    "import gym;\n",
    "import eplus_env;\n",
    "import random\n",
    "import statistics\n",
    "import matplotlib.pyplot as plt\n",
    "\n",
    "def normalize(raw_list,x_max,x_min):\n",
    "  norm_list = []\n",
    "\n",
    "  for i in range(len(raw_list)):\n",
    "    x = raw_list[i]\n",
    "\n",
    "    if x < x_min:\n",
    "      x = x_min\n",
    "    elif x > x_max:\n",
    "      x = x_max\n",
    "\n",
    "    x_norm = (x_max - x) / (x_max - x_min)\n",
    "    norm_list.append(x_norm)\n",
    "\n",
    "  return norm_list\n",
    "\n",
    "def cubic(x, scale = - 0.1, translation = 0):\n",
    "  return translation + (x**3) * scale\n",
    "\n",
    "def cubicise(energy,max_e,min_e,temp,max_t,min_t):\n",
    "  a = 0.5\n",
    "  energy_temp = []\n",
    "  energy_norm = normalize(energy,max_e,min_e)\n",
    "  #plt.plot(energy_norm) \n",
    "  temp_norm = normalize(temp,max_t,min_t)\n",
    "  #plt.plot(temp_norm) \n",
    "  for i in range(len(temp)):\n",
    "    #energy_i = cubic(energy_norm[i],scale= -0.1,translation=2)\n",
    "    #temp_i = cubic(temp_norm[i],scale= -0.1,translation=2)\n",
    "    r = a * energy_norm[i] + (1 - a) * temp_norm[i]\n",
    "    R = cubic(8 * r - 4,scale= -0.1,translation=2)\n",
    "    energy_temp.append(R)\n",
    "    #energy_temp.append([energy_i,temp_i])\n",
    "\n",
    "  return energy_temp\n",
    "\n",
    "def simulate(sp,max_e,min_e,max_t,min_t):\n",
    "  \n",
    "  #freqTable = getFreqTable(inTemps,outTemps)\n",
    "  env = gym.make('Eplus-test-v4')\n",
    "\n",
    "  # Number of episodes\n",
    "  for i in range(1):\n",
    "    energyCList = []\n",
    "    deltaTemp = []\n",
    "\n",
    "    # Reset the env (creat the EnergyPlus subprocess)\n",
    "    curSimTime, ob, isTerminal = env.reset()\n",
    "    \n",
    "    # get the initial in/out temps and the energy consumption\n",
    "    state = (round(ob[8]),round(ob[0]))\n",
    "    energyC = ob[14] # ???\n",
    "\n",
    "    while not isTerminal:\n",
    "      \n",
    "      choice = random.randint(0,35)\n",
    "      action = [choice,choice]\n",
    "      \n",
    "      curSimTime, ob, isTerminal = env.step(action)\n",
    "      nextState = (round(ob[8]),round(ob[0]))\n",
    "      deltaTemp.append(abs(sp - round(ob[8])))\n",
    "\n",
    "      # get the energy consumption for the last 15 mins\n",
    "      energyC = abs(energyC - ob[14])\n",
    "      energyCList.append(energyC)\n",
    "\n",
    "      state = nextState\n",
    "      # ate next ate (زي المفجوع)\n",
    "  \n",
    "    #if (i % 10 == 0):\n",
    "    #  print (f\"max_e = {max(energyCList)} \\n min_e = {min(energyCList)}\")\n",
    "    #  print (f\"max_t = {max(deltaTemp)} \\n min_t = {min(deltaTemp)}\")\n",
    "    #  energyCList = []\n",
    "    #  deltaTemp = []\n",
    "\n",
    "    \n",
    "  \n",
    "  finalList = cubicise(energyCList,max_e,min_e,deltaTemp,max_t,min_t)\n",
    "  plt.plot(finalList) \n",
    "\n",
    "# Safe termination of the environment after use.\n",
    "  env.end_env()\n",
    "\n",
    "\n",
    "simulate(30,11000,0,24,0)\n",
    "\n",
    "# u late i u ate\n",
    "\n",
    "\n",
    "# 0.00575025890498182 11302.030894529009 2982.80613622848 0 26"
   ]
  }
 ],
 "metadata": {
  "kernelspec": {
   "display_name": "Python 3",
   "language": "python",
   "name": "python3"
  },
  "language_info": {
   "codemirror_mode": {
    "name": "ipython",
    "version": 3
   },
   "file_extension": ".py",
   "mimetype": "text/x-python",
   "name": "python",
   "nbconvert_exporter": "python",
   "pygments_lexer": "ipython3",
   "version": "3.9.5"
  }
 },
 "nbformat": 4,
 "nbformat_minor": 5
}
